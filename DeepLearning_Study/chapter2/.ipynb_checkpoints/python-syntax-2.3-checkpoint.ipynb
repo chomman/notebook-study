{
 "cells": [
  {
   "cell_type": "code",
   "execution_count": 1,
   "metadata": {},
   "outputs": [],
   "source": [
    "a = 123"
   ]
  },
  {
   "cell_type": "code",
   "execution_count": 2,
   "metadata": {},
   "outputs": [],
   "source": [
    "b = 123.456\n",
    "c = \"Hello World!\"\n",
    "d = True\n",
    "e = [1,2,3]"
   ]
  },
  {
   "cell_type": "code",
   "execution_count": 3,
   "metadata": {},
   "outputs": [
    {
     "name": "stdout",
     "output_type": "stream",
     "text": [
      "<class 'int'>\n"
     ]
    }
   ],
   "source": [
    "print(type(a))"
   ]
  },
  {
   "cell_type": "code",
   "execution_count": 4,
   "metadata": {},
   "outputs": [
    {
     "name": "stdout",
     "output_type": "stream",
     "text": [
      "1\n"
     ]
    }
   ],
   "source": [
    "a = True; b = False;\n",
    "print(a+b)"
   ]
  },
  {
   "cell_type": "code",
   "execution_count": 5,
   "metadata": {},
   "outputs": [
    {
     "name": "stdout",
     "output_type": "stream",
     "text": [
      "<class 'bool'>\n"
     ]
    }
   ],
   "source": [
    "print(type(a))"
   ]
  },
  {
   "cell_type": "code",
   "execution_count": 6,
   "metadata": {},
   "outputs": [
    {
     "name": "stdout",
     "output_type": "stream",
     "text": [
      "7\n",
      "True\n",
      "True\n"
     ]
    }
   ],
   "source": [
    "a = 3; b = 4\n",
    "c = a + b\n",
    "print(c)\n",
    "\n",
    "d = a < b\n",
    "print(d)\n",
    "\n",
    "e = 3 < 4 and 4 < 5\n",
    "print(e)"
   ]
  },
  {
   "cell_type": "code",
   "execution_count": 8,
   "metadata": {},
   "outputs": [
    {
     "name": "stdout",
     "output_type": "stream",
     "text": [
      "HelloWorld\n",
      "[1, 2, 3, 4, 5, 6]\n"
     ]
    }
   ],
   "source": [
    "a = \"Hello\" + \"World\"\n",
    "print(a)\n",
    "\n",
    "b = [1,2,3] + [4,5,6]\n",
    "print(b)"
   ]
  },
  {
   "cell_type": "code",
   "execution_count": 9,
   "metadata": {},
   "outputs": [
    {
     "name": "stdout",
     "output_type": "stream",
     "text": [
      "3\n",
      "[1, 2, 3, 4, 5, 6]\n",
      "[1, 2, 7, 4, 5, 6]\n"
     ]
    }
   ],
   "source": [
    "# 리스트 생성 및 원소 변경\n",
    "a = [1,2,3,4,5]\n",
    "b = a[2]\n",
    "print(b)\n",
    "\n",
    "a.append(6)\n",
    "print(a)\n",
    "\n",
    "a[2] = 7\n",
    "print(a)"
   ]
  },
  {
   "cell_type": "code",
   "execution_count": 12,
   "metadata": {},
   "outputs": [
    {
     "name": "stdout",
     "output_type": "stream",
     "text": [
      "3\n"
     ]
    }
   ],
   "source": [
    "# 튜플\n",
    "a = (1,2,3,4,5)\n",
    "b = a[2]\n",
    "print(b)\n"
   ]
  },
  {
   "cell_type": "code",
   "execution_count": 13,
   "metadata": {},
   "outputs": [
    {
     "name": "stdout",
     "output_type": "stream",
     "text": [
      "(1, 2, 3, 4, 5, 6, 7, 8, 9, 10)\n"
     ]
    }
   ],
   "source": [
    "# 튜플 덧셈\n",
    "print(a + (6,7,8,9,10))"
   ]
  },
  {
   "cell_type": "code",
   "execution_count": 15,
   "metadata": {},
   "outputs": [
    {
     "name": "stdout",
     "output_type": "stream",
     "text": [
      "1 2 3\n",
      "4 5 6\n"
     ]
    }
   ],
   "source": [
    "# 원소들을 하나로 묶어 변수에 입력\n",
    "a = [1,2,3]\n",
    "a1, a2, a3 = a # 리스트의 각 원소를 차례대로 변수에 입력\n",
    "print(a1,a2,a3)\n",
    "\n",
    "b = (4,5,6)\n",
    "b1, b2, b3 = b # 튜플의 각 원소를 차례대로 변수에 입력\n",
    "print(b1,b2,b3)"
   ]
  },
  {
   "cell_type": "code",
   "execution_count": 16,
   "metadata": {},
   "outputs": [
    {
     "name": "stdout",
     "output_type": "stream",
     "text": [
      "3\n",
      "6\n",
      "{'Apple': 3, 'Pineapple': 6, 'Melon': 3}\n"
     ]
    }
   ],
   "source": [
    "# 딕셔너리\n",
    "a = {\"Apple\":3, \"Pineapple\":4}\n",
    "print(a[\"Apple\"])\n",
    "\n",
    "a[\"Pineapple\"] = 6\n",
    "print(a[\"Pineapple\"])\n",
    "\n",
    "a[\"Melon\"] = 3\n",
    "print(a)"
   ]
  },
  {
   "cell_type": "code",
   "execution_count": 17,
   "metadata": {},
   "outputs": [
    {
     "name": "stdout",
     "output_type": "stream",
     "text": [
      "Good morning!\n"
     ]
    }
   ],
   "source": [
    "# if문\n",
    "a = 7\n",
    "if a < 12:\n",
    "    print(\"Good morning!\")\n",
    "elif a < 17:\n",
    "    print(\"Good afternoon!\")\n",
    "elif a < 21:\n",
    "    print(\"Good evening!\")\n",
    "else:\n",
    "    print(\"Good night!\")"
   ]
  },
  {
   "cell_type": "code",
   "execution_count": 18,
   "metadata": {},
   "outputs": [
    {
     "name": "stdout",
     "output_type": "stream",
     "text": [
      "4\n",
      "7\n",
      "10\n"
     ]
    }
   ],
   "source": [
    "# for문\n",
    "for a in [4,7,10]:\n",
    "    print(a)"
   ]
  },
  {
   "cell_type": "code",
   "execution_count": 19,
   "metadata": {},
   "outputs": [
    {
     "name": "stdout",
     "output_type": "stream",
     "text": [
      "0\n",
      "1\n",
      "2\n"
     ]
    }
   ],
   "source": [
    "# for문\n",
    "for a in range(3):\n",
    "    print(a)"
   ]
  },
  {
   "cell_type": "code",
   "execution_count": 20,
   "metadata": {},
   "outputs": [
    {
     "name": "stdout",
     "output_type": "stream",
     "text": [
      "0\n",
      "1\n",
      "2\n"
     ]
    }
   ],
   "source": [
    "# while문\n",
    "a = 0\n",
    "while a < 3:\n",
    "    print(a)\n",
    "    a += 1\n"
   ]
  },
  {
   "cell_type": "code",
   "execution_count": null,
   "metadata": {},
   "outputs": [],
   "source": [
    "# 컴프리헨션\n",
    "# 새로운 리스트 = [원소에 대한 처리 for 원소 in 리스트]\n",
    "a = [1,2,3,4,5,6,7]\n",
    "print(a)\n",
    "b = [c*2 for c in a]\n",
    "print(b)\n",
    "\n",
    "# 새로운 리스트 = [원소에 대한 처리 for 원소 in 리스트 if 조건문]\n",
    "b = [c*2 for c in a if c < 5]\n",
    "print(b)"
   ]
  },
  {
   "cell_type": "code",
   "execution_count": 1,
   "metadata": {},
   "outputs": [
    {
     "name": "stdout",
     "output_type": "stream",
     "text": [
      "7\n"
     ]
    }
   ],
   "source": [
    "# 함수의 정의와 실행\n",
    "def add(a, b):\n",
    "    c = a + b\n",
    "    return c\n",
    "\n",
    "print(add(3,4))"
   ]
  },
  {
   "cell_type": "code",
   "execution_count": 2,
   "metadata": {},
   "outputs": [
    {
     "name": "stdout",
     "output_type": "stream",
     "text": [
      "7\n"
     ]
    }
   ],
   "source": [
    "# 기본값이 설정된 인수\n",
    "def add(a, b=4):\n",
    "    c = a + b\n",
    "    return c\n",
    "\n",
    "print(add(3))"
   ]
  },
  {
   "cell_type": "code",
   "execution_count": 3,
   "metadata": {},
   "outputs": [
    {
     "name": "stdout",
     "output_type": "stream",
     "text": [
      "6\n"
     ]
    }
   ],
   "source": [
    "# 여러개의 인수를 튜플로 전달\n",
    "def add(a, b, c):\n",
    "    d = a + b + c\n",
    "    print(d)\n",
    "    \n",
    "e = (1,2,3)\n",
    "add(*e)"
   ]
  },
  {
   "cell_type": "code",
   "execution_count": 6,
   "metadata": {},
   "outputs": [
    {
     "name": "stdout",
     "output_type": "stream",
     "text": [
      "123 456\n"
     ]
    }
   ],
   "source": [
    "# 변수의 범위\n",
    "a = 123 # 전역변수\n",
    "\n",
    "def showNum():\n",
    "    b = 456 # 지역변수\n",
    "    print(a, b)\n",
    "    \n",
    "showNum()"
   ]
  },
  {
   "cell_type": "code",
   "execution_count": 7,
   "metadata": {},
   "outputs": [
    {
     "name": "stdout",
     "output_type": "stream",
     "text": [
      "Local: 456\n",
      "Global: 123\n"
     ]
    }
   ],
   "source": [
    "# 같은 이름의 지역변수 정의\n",
    "a = 123 # 전역변수\n",
    "\n",
    "def setLocal():\n",
    "    a = 456 # 지역변수\n",
    "    print(\"Local:\", a)\n",
    "    \n",
    "setLocal()\n",
    "\n",
    "print(\"Global:\", a)"
   ]
  },
  {
   "cell_type": "code",
   "execution_count": 8,
   "metadata": {},
   "outputs": [
    {
     "name": "stdout",
     "output_type": "stream",
     "text": [
      "Global: 456\n",
      "Global: 456\n"
     ]
    }
   ],
   "source": [
    "# global문을 이용한 전역변수 변경\n",
    "a = 123\n",
    "\n",
    "def setGlobal():\n",
    "    global a\n",
    "    a = 456\n",
    "    print(\"Global:\", a)\n",
    "    \n",
    "setGlobal()\n",
    "print(\"Global:\", a)"
   ]
  },
  {
   "cell_type": "code",
   "execution_count": 16,
   "metadata": {},
   "outputs": [],
   "source": [
    "# 클래스\n",
    "class Calc:\n",
    "    def __init__(self, a): # 생성자\n",
    "        self.a = a\n",
    "        print(\"self:\", self)\n",
    "        print(\"a:\", a)\n",
    "        \n",
    "    def add(self, b):\n",
    "        print(self.a + b)\n",
    "    \n",
    "    def multiply(self, b):\n",
    "        print(self.a * b)"
   ]
  },
  {
   "cell_type": "code",
   "execution_count": 17,
   "metadata": {},
   "outputs": [
    {
     "name": "stdout",
     "output_type": "stream",
     "text": [
      "self: <__main__.Calc object at 0x7fd9f882e6d0>\n",
      "a: 3\n",
      "7\n",
      "12\n"
     ]
    }
   ],
   "source": [
    "# 인스턴스 생성 및 메소드 실행\n",
    "calc = Calc(3)\n",
    "calc.add(4)\n",
    "calc.multiply(4)"
   ]
  },
  {
   "cell_type": "code",
   "execution_count": 20,
   "metadata": {},
   "outputs": [],
   "source": [
    "# CalcPlus 클래스 정의\n",
    "class CalcPlus(Calc):\n",
    "    def subtract(self, b):\n",
    "        print(self.a - b)\n",
    "        \n",
    "    def divider(self, b):\n",
    "        print(self.a / b)"
   ]
  },
  {
   "cell_type": "code",
   "execution_count": 21,
   "metadata": {},
   "outputs": [
    {
     "name": "stdout",
     "output_type": "stream",
     "text": [
      "self: <__main__.CalcPlus object at 0x7fd9f87c9710>\n",
      "a: 3\n",
      "7\n",
      "12\n",
      "-1\n",
      "0.75\n"
     ]
    }
   ],
   "source": [
    "calc_plus = CalcPlus(3)\n",
    "calc_plus.add(4)\n",
    "calc_plus.multiply(4)\n",
    "calc_plus.subtract(4)\n",
    "calc_plus.divider(4)"
   ]
  },
  {
   "cell_type": "code",
   "execution_count": null,
   "metadata": {},
   "outputs": [],
   "source": []
  }
 ],
 "metadata": {
  "kernelspec": {
   "display_name": "Python 3",
   "language": "python",
   "name": "python3"
  },
  "language_info": {
   "codemirror_mode": {
    "name": "ipython",
    "version": 3
   },
   "file_extension": ".py",
   "mimetype": "text/x-python",
   "name": "python",
   "nbconvert_exporter": "python",
   "pygments_lexer": "ipython3",
   "version": "3.7.4"
  }
 },
 "nbformat": 4,
 "nbformat_minor": 2
}
